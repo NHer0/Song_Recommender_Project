{
 "cells": [
  {
   "cell_type": "markdown",
   "metadata": {},
   "source": [
    "# Importing"
   ]
  },
  {
   "cell_type": "code",
   "execution_count": 4,
   "metadata": {},
   "outputs": [],
   "source": [
    "import pandas as pd\n",
    "import numpy as np\n",
    "import hot_recommender as hr\n",
    "from billboard100_scrapper import billboard100_scrapper\n",
    "import ipywidgets as widgets"
   ]
  },
  {
   "cell_type": "markdown",
   "metadata": {},
   "source": [
    "# Loading the songs data"
   ]
  },
  {
   "cell_type": "code",
   "execution_count": 7,
   "metadata": {},
   "outputs": [],
   "source": [
    "try:\n",
    "\n",
    "    billboard100 = pd.read_csv(filepath_or_buffer=\"Data/billboard100.csv\")\n",
    "\n",
    "except FileNotFoundError:\n",
    "\n",
    "    billboard100 = billboard100_scrapper()"
   ]
  },
  {
   "cell_type": "markdown",
   "metadata": {},
   "source": [
    "# First Prototype, only hot recommender"
   ]
  },
  {
   "cell_type": "code",
   "execution_count": 8,
   "metadata": {},
   "outputs": [
    {
     "name": "stdout",
     "output_type": "stream",
     "text": [
      "Please enter the name of one hot song you love: stay\n",
      "We think \"Wild Side\" from \"Normani Featuring Cardi B\" will like you. Check it out!\n",
      "--------------------------\n",
      "Do you want another recommendation?lol\n",
      "That's a pity :( See you next time!\n",
      "--------------------------\n"
     ]
    }
   ],
   "source": [
    "hr.hot_recommender_v2(billboard100)"
   ]
  },
  {
   "cell_type": "code",
   "execution_count": null,
   "metadata": {},
   "outputs": [],
   "source": []
  }
 ],
 "metadata": {
  "kernelspec": {
   "display_name": "Python 3 (ipykernel)",
   "language": "python",
   "name": "python3"
  },
  "language_info": {
   "codemirror_mode": {
    "name": "ipython",
    "version": 3
   },
   "file_extension": ".py",
   "mimetype": "text/x-python",
   "name": "python",
   "nbconvert_exporter": "python",
   "pygments_lexer": "ipython3",
   "version": "3.9.0"
  }
 },
 "nbformat": 4,
 "nbformat_minor": 1
}
