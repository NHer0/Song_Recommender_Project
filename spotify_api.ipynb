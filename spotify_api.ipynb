{
 "cells": [
  {
   "cell_type": "code",
   "execution_count": 111,
   "metadata": {},
   "outputs": [],
   "source": [
    "import config\n",
    "import spotipy\n",
    "import json\n",
    "from spotipy.oauth2 import SpotifyClientCredentials\n",
    "import pandas as pd"
   ]
  },
  {
   "cell_type": "code",
   "execution_count": 4,
   "metadata": {},
   "outputs": [],
   "source": [
    "#Initialize SpotiPy with user credentias\n",
    "sp = spotipy.Spotify(auth_manager=SpotifyClientCredentials(client_id= config.client_id,\n",
    "                                                           client_secret= config.client_secret))"
   ]
  },
  {
   "cell_type": "code",
   "execution_count": 27,
   "metadata": {},
   "outputs": [
    {
     "data": {
      "text/plain": [
       "{'artists': {'href': 'https://api.spotify.com/v1/search?query=Drake&type=artist&market=GB&offset=0&limit=1',\n",
       "  'items': [{'external_urls': {'spotify': 'https://open.spotify.com/artist/3TVXtAsR1Inumwj472S9r4'},\n",
       "    'followers': {'href': None, 'total': 58794631},\n",
       "    'genres': ['canadian hip hop',\n",
       "     'canadian pop',\n",
       "     'hip hop',\n",
       "     'rap',\n",
       "     'toronto rap'],\n",
       "    'href': 'https://api.spotify.com/v1/artists/3TVXtAsR1Inumwj472S9r4',\n",
       "    'id': '3TVXtAsR1Inumwj472S9r4',\n",
       "    'images': [{'height': 640,\n",
       "      'url': 'https://i.scdn.co/image/ab6761610000e5eb9e46a78c5cd2f7a8e7669980',\n",
       "      'width': 640},\n",
       "     {'height': 320,\n",
       "      'url': 'https://i.scdn.co/image/ab676161000051749e46a78c5cd2f7a8e7669980',\n",
       "      'width': 320},\n",
       "     {'height': 160,\n",
       "      'url': 'https://i.scdn.co/image/ab6761610000f1789e46a78c5cd2f7a8e7669980',\n",
       "      'width': 160}],\n",
       "    'name': 'Drake',\n",
       "    'popularity': 97,\n",
       "    'type': 'artist',\n",
       "    'uri': 'spotify:artist:3TVXtAsR1Inumwj472S9r4'}],\n",
       "  'limit': 1,\n",
       "  'next': 'https://api.spotify.com/v1/search?query=Drake&type=artist&market=GB&offset=1&limit=1',\n",
       "  'offset': 0,\n",
       "  'previous': None,\n",
       "  'total': 973}}"
      ]
     },
     "execution_count": 27,
     "metadata": {},
     "output_type": "execute_result"
    }
   ],
   "source": [
    "results = sp.search(q='Drake', type=\"artist\", limit=1,market=\"GB\")\n",
    "results"
   ]
  },
  {
   "cell_type": "code",
   "execution_count": 28,
   "metadata": {},
   "outputs": [
    {
     "data": {
      "text/plain": [
       "dict_keys(['external_urls', 'followers', 'genres', 'href', 'id', 'images', 'name', 'popularity', 'type', 'uri'])"
      ]
     },
     "execution_count": 28,
     "metadata": {},
     "output_type": "execute_result"
    }
   ],
   "source": [
    "results[\"artists\"][\"items\"][0].keys()"
   ]
  },
  {
   "cell_type": "code",
   "execution_count": 29,
   "metadata": {},
   "outputs": [
    {
     "data": {
      "text/plain": [
       "'3TVXtAsR1Inumwj472S9r4'"
      ]
     },
     "execution_count": 29,
     "metadata": {},
     "output_type": "execute_result"
    }
   ],
   "source": [
    "results[\"artists\"][\"items\"][0][\"id\"]"
   ]
  },
  {
   "cell_type": "code",
   "execution_count": 118,
   "metadata": {},
   "outputs": [],
   "source": [
    "artist_list = ['Billie Eilish', \"Drake\"]"
   ]
  },
  {
   "cell_type": "code",
   "execution_count": 122,
   "metadata": {},
   "outputs": [],
   "source": [
    "# artist_id_list = []\n",
    "\n",
    "# for artist in artist_list:\n",
    "    \n",
    "#     results = sp.search(q=artist, type=\"artist\", limit=1,market=\"US\")\n",
    "#     artist_id = results = sp.search(q='Drake', type=\"artist\", limit=1,market=\"GB\")\n",
    "#     artist_id_list.append(artist_id)\n",
    "    \n",
    "artists_id_list = [sp.search(q=artist, type=\"artist\", limit=1,market=\"GB\")[\"artists\"][\"items\"][0][\"id\"] for artist in artist_list]"
   ]
  },
  {
   "cell_type": "code",
   "execution_count": 99,
   "metadata": {},
   "outputs": [
    {
     "data": {
      "text/plain": [
       "['6qqNVTkY8uBg9cP3Jd7DAH']"
      ]
     },
     "execution_count": 99,
     "metadata": {},
     "output_type": "execute_result"
    }
   ],
   "source": [
    "artists_id_list"
   ]
  },
  {
   "cell_type": "code",
   "execution_count": 100,
   "metadata": {},
   "outputs": [
    {
     "name": "stdout",
     "output_type": "stream",
     "text": [
      "0\n",
      "6qqNVTkY8uBg9cP3Jd7DAH\n"
     ]
    }
   ],
   "source": [
    "for i,artists_id in enumerate(artists_id_list):\n",
    "    \n",
    "    print(i)\n",
    "    print(artists_id)"
   ]
  },
  {
   "cell_type": "code",
   "execution_count": 101,
   "metadata": {},
   "outputs": [],
   "source": [
    "pop_tracks = sp.artist_top_tracks('6qqNVTkY8uBg9cP3Jd7DAH', \"US\")"
   ]
  },
  {
   "cell_type": "code",
   "execution_count": 102,
   "metadata": {},
   "outputs": [],
   "source": [
    "result = []"
   ]
  },
  {
   "cell_type": "code",
   "execution_count": 90,
   "metadata": {},
   "outputs": [],
   "source": [
    "row = []\n",
    "row.append(artist_list[0])\n",
    "row.append(pop_tracks[\"tracks\"][0][\"id\"])\n",
    "result.append(row)"
   ]
  },
  {
   "cell_type": "code",
   "execution_count": 91,
   "metadata": {},
   "outputs": [
    {
     "data": {
      "text/plain": [
       "[['Billie Eilish', '4RVwu0g32PAqgUiJoXsdF8']]"
      ]
     },
     "execution_count": 91,
     "metadata": {},
     "output_type": "execute_result"
    }
   ],
   "source": [
    "result"
   ]
  },
  {
   "cell_type": "code",
   "execution_count": 123,
   "metadata": {},
   "outputs": [],
   "source": [
    "result = []"
   ]
  },
  {
   "cell_type": "code",
   "execution_count": 124,
   "metadata": {},
   "outputs": [],
   "source": [
    "\n",
    "\n",
    "\n",
    "for i,artists_id in enumerate(artists_id_list):\n",
    "    \n",
    "    pop_tracks = sp.artist_top_tracks(artists_id, \"US\")\n",
    "    \n",
    "    for j in range(10):\n",
    "        \n",
    "        row = []\n",
    "        row.append(artist_list[i])\n",
    "        row.append(pop_tracks[\"tracks\"][j][\"id\"])\n",
    "        result.append(row)\n",
    "        \n",
    "        \n",
    "        \n",
    "    \n",
    "    "
   ]
  },
  {
   "cell_type": "code",
   "execution_count": 125,
   "metadata": {},
   "outputs": [
    {
     "data": {
      "text/plain": [
       "[['Billie Eilish', '4RVwu0g32PAqgUiJoXsdF8'],\n",
       " ['Billie Eilish', '04sN26COy28wTXYj3dMoiZ'],\n",
       " ['Billie Eilish', '0u2P5u6lvoDfwTYjAADbn4'],\n",
       " ['Billie Eilish', '32BeYxKPrig1LefHsC0Xuo'],\n",
       " ['Billie Eilish', '2Fxmhks0bxGSBdJ92vM42m'],\n",
       " ['Billie Eilish', '3ZCTVFBt2Brf31RLEnCkWJ'],\n",
       " ['Billie Eilish', '43zdsphuZLzwA9k4DJhU0I'],\n",
       " ['Billie Eilish', '042Sl6Mn83JHyLEqdK7uI0'],\n",
       " ['Billie Eilish', '73SpzrcaHk0RQPFP73vqVR'],\n",
       " ['Billie Eilish', '6CcJMwBtXByIz4zQLzFkKc'],\n",
       " ['Drake', '0k1WUmIRnG3xU6fvvDVfRG'],\n",
       " ['Drake', '2BcMwX1MPV6ZHP4tUT9uq6'],\n",
       " ['Drake', '40iJIUlhi6renaREYGeIDS'],\n",
       " ['Drake', '37Nqx7iavZpotJSDXZWbJ3'],\n",
       " ['Drake', '65OVbaJR5O1RmwOQx0875b'],\n",
       " ['Drake', '1zi7xx7UVEFkmKfv06H8x0'],\n",
       " ['Drake', '2HSmyk2qMN8WQjuGhaQgCk'],\n",
       " ['Drake', '2SAqBLGA283SUiwJ3xOUVI'],\n",
       " ['Drake', '6DCZcSspjsKoFjzjrWoCdn'],\n",
       " ['Drake', '2tUL6dZf1mywCj5WvCPZw6']]"
      ]
     },
     "execution_count": 125,
     "metadata": {},
     "output_type": "execute_result"
    }
   ],
   "source": [
    "result"
   ]
  },
  {
   "cell_type": "code",
   "execution_count": 126,
   "metadata": {},
   "outputs": [],
   "source": [
    "df = pd.DataFrame(result, columns=[\"artist\", \"song_id\"])"
   ]
  },
  {
   "cell_type": "code",
   "execution_count": 127,
   "metadata": {},
   "outputs": [
    {
     "data": {
      "text/html": [
       "<div>\n",
       "<style scoped>\n",
       "    .dataframe tbody tr th:only-of-type {\n",
       "        vertical-align: middle;\n",
       "    }\n",
       "\n",
       "    .dataframe tbody tr th {\n",
       "        vertical-align: top;\n",
       "    }\n",
       "\n",
       "    .dataframe thead th {\n",
       "        text-align: right;\n",
       "    }\n",
       "</style>\n",
       "<table border=\"1\" class=\"dataframe\">\n",
       "  <thead>\n",
       "    <tr style=\"text-align: right;\">\n",
       "      <th></th>\n",
       "      <th>artist</th>\n",
       "      <th>song_id</th>\n",
       "    </tr>\n",
       "  </thead>\n",
       "  <tbody>\n",
       "    <tr>\n",
       "      <th>0</th>\n",
       "      <td>Billie Eilish</td>\n",
       "      <td>4RVwu0g32PAqgUiJoXsdF8</td>\n",
       "    </tr>\n",
       "    <tr>\n",
       "      <th>1</th>\n",
       "      <td>Billie Eilish</td>\n",
       "      <td>04sN26COy28wTXYj3dMoiZ</td>\n",
       "    </tr>\n",
       "    <tr>\n",
       "      <th>2</th>\n",
       "      <td>Billie Eilish</td>\n",
       "      <td>0u2P5u6lvoDfwTYjAADbn4</td>\n",
       "    </tr>\n",
       "    <tr>\n",
       "      <th>3</th>\n",
       "      <td>Billie Eilish</td>\n",
       "      <td>32BeYxKPrig1LefHsC0Xuo</td>\n",
       "    </tr>\n",
       "    <tr>\n",
       "      <th>4</th>\n",
       "      <td>Billie Eilish</td>\n",
       "      <td>2Fxmhks0bxGSBdJ92vM42m</td>\n",
       "    </tr>\n",
       "    <tr>\n",
       "      <th>5</th>\n",
       "      <td>Billie Eilish</td>\n",
       "      <td>3ZCTVFBt2Brf31RLEnCkWJ</td>\n",
       "    </tr>\n",
       "    <tr>\n",
       "      <th>6</th>\n",
       "      <td>Billie Eilish</td>\n",
       "      <td>43zdsphuZLzwA9k4DJhU0I</td>\n",
       "    </tr>\n",
       "    <tr>\n",
       "      <th>7</th>\n",
       "      <td>Billie Eilish</td>\n",
       "      <td>042Sl6Mn83JHyLEqdK7uI0</td>\n",
       "    </tr>\n",
       "    <tr>\n",
       "      <th>8</th>\n",
       "      <td>Billie Eilish</td>\n",
       "      <td>73SpzrcaHk0RQPFP73vqVR</td>\n",
       "    </tr>\n",
       "    <tr>\n",
       "      <th>9</th>\n",
       "      <td>Billie Eilish</td>\n",
       "      <td>6CcJMwBtXByIz4zQLzFkKc</td>\n",
       "    </tr>\n",
       "    <tr>\n",
       "      <th>10</th>\n",
       "      <td>Drake</td>\n",
       "      <td>0k1WUmIRnG3xU6fvvDVfRG</td>\n",
       "    </tr>\n",
       "    <tr>\n",
       "      <th>11</th>\n",
       "      <td>Drake</td>\n",
       "      <td>2BcMwX1MPV6ZHP4tUT9uq6</td>\n",
       "    </tr>\n",
       "    <tr>\n",
       "      <th>12</th>\n",
       "      <td>Drake</td>\n",
       "      <td>40iJIUlhi6renaREYGeIDS</td>\n",
       "    </tr>\n",
       "    <tr>\n",
       "      <th>13</th>\n",
       "      <td>Drake</td>\n",
       "      <td>37Nqx7iavZpotJSDXZWbJ3</td>\n",
       "    </tr>\n",
       "    <tr>\n",
       "      <th>14</th>\n",
       "      <td>Drake</td>\n",
       "      <td>65OVbaJR5O1RmwOQx0875b</td>\n",
       "    </tr>\n",
       "    <tr>\n",
       "      <th>15</th>\n",
       "      <td>Drake</td>\n",
       "      <td>1zi7xx7UVEFkmKfv06H8x0</td>\n",
       "    </tr>\n",
       "    <tr>\n",
       "      <th>16</th>\n",
       "      <td>Drake</td>\n",
       "      <td>2HSmyk2qMN8WQjuGhaQgCk</td>\n",
       "    </tr>\n",
       "    <tr>\n",
       "      <th>17</th>\n",
       "      <td>Drake</td>\n",
       "      <td>2SAqBLGA283SUiwJ3xOUVI</td>\n",
       "    </tr>\n",
       "    <tr>\n",
       "      <th>18</th>\n",
       "      <td>Drake</td>\n",
       "      <td>6DCZcSspjsKoFjzjrWoCdn</td>\n",
       "    </tr>\n",
       "    <tr>\n",
       "      <th>19</th>\n",
       "      <td>Drake</td>\n",
       "      <td>2tUL6dZf1mywCj5WvCPZw6</td>\n",
       "    </tr>\n",
       "  </tbody>\n",
       "</table>\n",
       "</div>"
      ],
      "text/plain": [
       "           artist                 song_id\n",
       "0   Billie Eilish  4RVwu0g32PAqgUiJoXsdF8\n",
       "1   Billie Eilish  04sN26COy28wTXYj3dMoiZ\n",
       "2   Billie Eilish  0u2P5u6lvoDfwTYjAADbn4\n",
       "3   Billie Eilish  32BeYxKPrig1LefHsC0Xuo\n",
       "4   Billie Eilish  2Fxmhks0bxGSBdJ92vM42m\n",
       "5   Billie Eilish  3ZCTVFBt2Brf31RLEnCkWJ\n",
       "6   Billie Eilish  43zdsphuZLzwA9k4DJhU0I\n",
       "7   Billie Eilish  042Sl6Mn83JHyLEqdK7uI0\n",
       "8   Billie Eilish  73SpzrcaHk0RQPFP73vqVR\n",
       "9   Billie Eilish  6CcJMwBtXByIz4zQLzFkKc\n",
       "10          Drake  0k1WUmIRnG3xU6fvvDVfRG\n",
       "11          Drake  2BcMwX1MPV6ZHP4tUT9uq6\n",
       "12          Drake  40iJIUlhi6renaREYGeIDS\n",
       "13          Drake  37Nqx7iavZpotJSDXZWbJ3\n",
       "14          Drake  65OVbaJR5O1RmwOQx0875b\n",
       "15          Drake  1zi7xx7UVEFkmKfv06H8x0\n",
       "16          Drake  2HSmyk2qMN8WQjuGhaQgCk\n",
       "17          Drake  2SAqBLGA283SUiwJ3xOUVI\n",
       "18          Drake  6DCZcSspjsKoFjzjrWoCdn\n",
       "19          Drake  2tUL6dZf1mywCj5WvCPZw6"
      ]
     },
     "execution_count": 127,
     "metadata": {},
     "output_type": "execute_result"
    }
   ],
   "source": [
    "df"
   ]
  },
  {
   "cell_type": "code",
   "execution_count": 128,
   "metadata": {},
   "outputs": [],
   "source": [
    "songs_id_list = list(df[\"song_id\"])"
   ]
  },
  {
   "cell_type": "code",
   "execution_count": 129,
   "metadata": {},
   "outputs": [
    {
     "data": {
      "text/plain": [
       "['4RVwu0g32PAqgUiJoXsdF8',\n",
       " '04sN26COy28wTXYj3dMoiZ',\n",
       " '0u2P5u6lvoDfwTYjAADbn4',\n",
       " '32BeYxKPrig1LefHsC0Xuo',\n",
       " '2Fxmhks0bxGSBdJ92vM42m',\n",
       " '3ZCTVFBt2Brf31RLEnCkWJ',\n",
       " '43zdsphuZLzwA9k4DJhU0I',\n",
       " '042Sl6Mn83JHyLEqdK7uI0',\n",
       " '73SpzrcaHk0RQPFP73vqVR',\n",
       " '6CcJMwBtXByIz4zQLzFkKc',\n",
       " '0k1WUmIRnG3xU6fvvDVfRG',\n",
       " '2BcMwX1MPV6ZHP4tUT9uq6',\n",
       " '40iJIUlhi6renaREYGeIDS',\n",
       " '37Nqx7iavZpotJSDXZWbJ3',\n",
       " '65OVbaJR5O1RmwOQx0875b',\n",
       " '1zi7xx7UVEFkmKfv06H8x0',\n",
       " '2HSmyk2qMN8WQjuGhaQgCk',\n",
       " '2SAqBLGA283SUiwJ3xOUVI',\n",
       " '6DCZcSspjsKoFjzjrWoCdn',\n",
       " '2tUL6dZf1mywCj5WvCPZw6']"
      ]
     },
     "execution_count": 129,
     "metadata": {},
     "output_type": "execute_result"
    }
   ],
   "source": [
    "songs_id_list"
   ]
  },
  {
   "cell_type": "code",
   "execution_count": 132,
   "metadata": {},
   "outputs": [],
   "source": [
    "af = sp.audio_features(songs_id_list)"
   ]
  },
  {
   "cell_type": "code",
   "execution_count": 134,
   "metadata": {},
   "outputs": [
    {
     "data": {
      "text/plain": [
       "20"
      ]
     },
     "execution_count": 134,
     "metadata": {},
     "output_type": "execute_result"
    }
   ],
   "source": [
    "len(af)"
   ]
  },
  {
   "cell_type": "code",
   "execution_count": 139,
   "metadata": {},
   "outputs": [
    {
     "data": {
      "text/plain": [
       "{'danceability': 0.84,\n",
       " 'energy': 0.744,\n",
       " 'key': 1,\n",
       " 'loudness': -4.751,\n",
       " 'mode': 1,\n",
       " 'speechiness': 0.113,\n",
       " 'acousticness': 0.0181,\n",
       " 'instrumentalness': 0,\n",
       " 'liveness': 0.629,\n",
       " 'valence': 0.171,\n",
       " 'tempo': 83.737,\n",
       " 'type': 'audio_features',\n",
       " 'id': '2tUL6dZf1mywCj5WvCPZw6',\n",
       " 'uri': 'spotify:track:2tUL6dZf1mywCj5WvCPZw6',\n",
       " 'track_href': 'https://api.spotify.com/v1/tracks/2tUL6dZf1mywCj5WvCPZw6',\n",
       " 'analysis_url': 'https://api.spotify.com/v1/audio-analysis/2tUL6dZf1mywCj5WvCPZw6',\n",
       " 'duration_ms': 204347,\n",
       " 'time_signature': 4}"
      ]
     },
     "execution_count": 139,
     "metadata": {},
     "output_type": "execute_result"
    }
   ],
   "source": [
    "af[19]"
   ]
  },
  {
   "cell_type": "code",
   "execution_count": 136,
   "metadata": {},
   "outputs": [
    {
     "ename": "TypeError",
     "evalue": "unhashable type: 'slice'",
     "output_type": "error",
     "traceback": [
      "\u001b[1;31m---------------------------------------------------------------------------\u001b[0m",
      "\u001b[1;31mTypeError\u001b[0m                                 Traceback (most recent call last)",
      "\u001b[1;32m~\\AppData\\Local\\Temp/ipykernel_19568/2328440879.py\u001b[0m in \u001b[0;36m<module>\u001b[1;34m\u001b[0m\n\u001b[1;32m----> 1\u001b[1;33m \u001b[0maf\u001b[0m\u001b[1;33m[\u001b[0m\u001b[1;36m0\u001b[0m\u001b[1;33m]\u001b[0m\u001b[1;33m[\u001b[0m\u001b[1;33m:\u001b[0m\u001b[1;36m10\u001b[0m\u001b[1;33m]\u001b[0m\u001b[1;33m\u001b[0m\u001b[1;33m\u001b[0m\u001b[0m\n\u001b[0m",
      "\u001b[1;31mTypeError\u001b[0m: unhashable type: 'slice'"
     ]
    }
   ],
   "source": [
    "af[0][:10]"
   ]
  },
  {
   "cell_type": "code",
   "execution_count": null,
   "metadata": {},
   "outputs": [],
   "source": []
  }
 ],
 "metadata": {
  "interpreter": {
   "hash": "06f0efb8c313447c71f64cab399bf2f53a17127c99d584d929d84a2f7db1cd8d"
  },
  "kernelspec": {
   "display_name": "Python 3.9.0 64-bit ('DA_Environment': conda)",
   "language": "python",
   "name": "python3"
  },
  "language_info": {
   "codemirror_mode": {
    "name": "ipython",
    "version": 3
   },
   "file_extension": ".py",
   "mimetype": "text/x-python",
   "name": "python",
   "nbconvert_exporter": "python",
   "pygments_lexer": "ipython3",
   "version": "3.9.0"
  },
  "orig_nbformat": 4
 },
 "nbformat": 4,
 "nbformat_minor": 2
}
