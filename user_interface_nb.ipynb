{
 "cells": [
  {
   "cell_type": "markdown",
   "metadata": {},
   "source": [
    "# Importing"
   ]
  },
  {
   "cell_type": "code",
   "execution_count": 1,
   "metadata": {},
   "outputs": [],
   "source": [
    "import pandas as pd\n",
    "import numpy as np\n",
    "import song_recommender as sr\n",
    "from billboard100_scrapper import billboard100_scrapper\n",
    "import ipywidgets as widgets\n",
    "import pickle\n",
    "from kmeans_model import kmeans_model\n",
    "from spotify_api import get_audio_features_artists_db"
   ]
  },
  {
   "cell_type": "markdown",
   "metadata": {},
   "source": [
    "# Loading the songs data"
   ]
  },
  {
   "cell_type": "code",
   "execution_count": 2,
   "metadata": {},
   "outputs": [],
   "source": [
    "# Hot songs data\n",
    "\n",
    "try:\n",
    "\n",
    "    billboard100 = pd.read_csv(filepath_or_buffer=\"Data/billboard100.csv\", index_col=0)\n",
    "\n",
    "except FileNotFoundError:\n",
    "\n",
    "    billboard100 = billboard100_scrapper()\n",
    "\n",
    "# Spotify songs with audiofeatures and clusters database\n",
    "\n",
    "try:\n",
    "    \n",
    "    # Songs database\n",
    "    songs_db = pd.read_csv(filepath_or_buffer=\"Data/audiofeatures_clustered_db.csv\", index_col=0)\n",
    "    \n",
    "    # kmeans model\n",
    "    with open(\"Data/kmeans_model.pickle\", \"rb\") as f:\n",
    "        \n",
    "        kmeans_model = pickle.load(f)\n",
    "        \n",
    "    # scaler\n",
    "    with open(\"Data/scaler.pickle\", \"rb\") as f:\n",
    "        \n",
    "        scaler = pickle.load(f)        \n",
    "    \n",
    "    \n",
    "except FileNotFoundError:\n",
    "    \n",
    "    artist_list = list(pd.read_csv(filepath_or_buffer=\"Data/artist_list.csv\")[\"artist\"])\n",
    "    db = get_audio_features_artists_db(artist_list) # no clustered songs_db\n",
    "    songs_db, scaler, kmeans_model = kmeans_model(db)"
   ]
  },
  {
   "cell_type": "markdown",
   "metadata": {},
   "source": [
    "# First Prototype, only hot recommender"
   ]
  },
  {
   "cell_type": "code",
   "execution_count": 2,
   "metadata": {},
   "outputs": [
    {
     "ename": "NameError",
     "evalue": "name 'sr' is not defined",
     "output_type": "error",
     "traceback": [
      "\u001b[1;31m---------------------------------------------------------------------------\u001b[0m",
      "\u001b[1;31mNameError\u001b[0m                                 Traceback (most recent call last)",
      "\u001b[1;32m<ipython-input-2-7d39becfd381>\u001b[0m in \u001b[0;36m<module>\u001b[1;34m\u001b[0m\n\u001b[1;32m----> 1\u001b[1;33m \u001b[0msr\u001b[0m\u001b[1;33m.\u001b[0m\u001b[0mhot_recommender_v3\u001b[0m\u001b[1;33m(\u001b[0m\u001b[0mbillboard100\u001b[0m\u001b[1;33m)\u001b[0m\u001b[1;33m\u001b[0m\u001b[1;33m\u001b[0m\u001b[0m\n\u001b[0m",
      "\u001b[1;31mNameError\u001b[0m: name 'sr' is not defined"
     ]
    }
   ],
   "source": [
    "sr.hot_recommender_v3(billboard100)"
   ]
  },
  {
   "cell_type": "markdown",
   "metadata": {},
   "source": [
    "# Second Prototype, fully functional"
   ]
  },
  {
   "cell_type": "code",
   "execution_count": 3,
   "metadata": {},
   "outputs": [
    {
     "name": "stdout",
     "output_type": "stream",
     "text": [
      "--------------------------\n",
      "--------------------------\n",
      "You are into hot songs! We think \"State Of Grace (Taylor'S Version)\" from \"Taylor Swift\" will like you. Check it out!\n",
      "\n",
      "--------------------------\n",
      "--------------------------\n",
      "Based on the song features we think \"Heartache Medication\" from \"Jon Pardi\" will like you. Check it out!\n",
      "--------------------------\n",
      "--------------------------\n",
      "That's a pity :( See you next time!\n",
      "--------------------------\n"
     ]
    }
   ],
   "source": [
    "sr.song_recommender(billboard100, songs_db, kmeans_model, scaler)"
   ]
  },
  {
   "cell_type": "code",
   "execution_count": null,
   "metadata": {},
   "outputs": [],
   "source": []
  }
 ],
 "metadata": {
  "kernelspec": {
   "display_name": "Python 3 (ipykernel)",
   "language": "python",
   "name": "python3"
  },
  "language_info": {
   "codemirror_mode": {
    "name": "ipython",
    "version": 3
   },
   "file_extension": ".py",
   "mimetype": "text/x-python",
   "name": "python",
   "nbconvert_exporter": "python",
   "pygments_lexer": "ipython3",
   "version": "3.8.8"
  }
 },
 "nbformat": 4,
 "nbformat_minor": 1
}
