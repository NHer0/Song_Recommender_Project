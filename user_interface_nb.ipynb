{
 "cells": [
  {
   "cell_type": "markdown",
   "metadata": {},
   "source": [
    "# Importing"
   ]
  },
  {
   "cell_type": "code",
   "execution_count": 1,
   "metadata": {},
   "outputs": [],
   "source": [
    "import pandas as pd\n",
    "import numpy as np\n",
    "import song_recommender as sr\n",
    "from billboard100_scrapper import billboard100_scrapper\n",
    "import ipywidgets as widgets\n",
    "import pickle\n",
    "from kmeans_model import kmeans_model\n",
    "from spotify_api import get_audio_features_artists_db\n",
    "from spotify_api import spotify_player\n",
    "import IPython.display\n",
    "import spotipy\n",
    "import config\n",
    "from spotipy.oauth2 import SpotifyClientCredentials"
   ]
  },
  {
   "cell_type": "markdown",
   "metadata": {},
   "source": [
    "# Loading the songs data"
   ]
  },
  {
   "cell_type": "code",
   "execution_count": 2,
   "metadata": {},
   "outputs": [],
   "source": [
    "# Hot songs data\n",
    "\n",
    "try:\n",
    "\n",
    "    billboard100 = pd.read_csv(filepath_or_buffer=\"Data/billboard100.csv\", index_col=0)\n",
    "\n",
    "except FileNotFoundError:\n",
    "\n",
    "    billboard100 = billboard100_scrapper()\n",
    "\n",
    "# Spotify songs with audiofeatures and clusters database\n",
    "\n",
    "try:\n",
    "    \n",
    "    # Songs database\n",
    "    songs_db = pd.read_csv(filepath_or_buffer=\"Data/audiofeatures_clustered_db.csv\", index_col=0)\n",
    "    \n",
    "    # kmeans model\n",
    "    with open(\"Data/kmeans_model.pickle\", \"rb\") as f:\n",
    "        \n",
    "        kmeans_model = pickle.load(f)\n",
    "        \n",
    "    # scaler\n",
    "    with open(\"Data/scaler.pickle\", \"rb\") as f:\n",
    "        \n",
    "        scaler = pickle.load(f)        \n",
    "    \n",
    "    \n",
    "except FileNotFoundError:\n",
    "    \n",
    "    artist_list = list(pd.read_csv(filepath_or_buffer=\"Data/artist_list.csv\")[\"artist\"])\n",
    "    db = get_audio_features_artists_db(artist_list) # no clustered songs_db\n",
    "    kmeans_model, scaler, songs_db  = kmeans_model(db)"
   ]
  },
  {
   "cell_type": "code",
   "execution_count": 3,
   "metadata": {},
   "outputs": [
    {
     "data": {
      "text/plain": [
       "(58247, 15)"
      ]
     },
     "execution_count": 3,
     "metadata": {},
     "output_type": "execute_result"
    }
   ],
   "source": [
    "songs_db.shape"
   ]
  },
  {
   "cell_type": "markdown",
   "metadata": {},
   "source": [
    "# First Prototype, only hot recommender"
   ]
  },
  {
   "cell_type": "code",
   "execution_count": 4,
   "metadata": {},
   "outputs": [
    {
     "name": "stdout",
     "output_type": "stream",
     "text": [
      "Please enter the name of one hot song you love: n\n",
      "--------------------------\n",
      "The song you provided us is not popular at the moment. Please try again with a hot song.\n",
      "--------------------------\n",
      "Do you want another recommendation? n\n",
      "--------------------------\n",
      "That's a pity :( See you next time!\n",
      "--------------------------\n"
     ]
    }
   ],
   "source": [
    "sr.hot_recommender_v3(billboard100)"
   ]
  },
  {
   "cell_type": "markdown",
   "metadata": {},
   "source": [
    "# Second Prototype, fully functional"
   ]
  },
  {
   "cell_type": "code",
   "execution_count": null,
   "metadata": {},
   "outputs": [
    {
     "name": "stdout",
     "output_type": "stream",
     "text": [
      "Welcome to Gnod Song Recommender - Developer Environment. Please bear in mind this is a beta version.\n",
      "--------------------------\n",
      "Please enter the name of one song you love: loose yourself\n",
      "--------------------------\n",
      "Spotify found more than one song under that name!\n",
      "\n",
      "1. Lose Yourself - From \"8 Mile\" Soundtrack / Eminem\n",
      "2. Loose Ends / Imogen Heap\n",
      "3. Lose Yourself - Soundtrack Version / Eminem\n",
      "--------------------------\n",
      "Which one do you mean? 1\n",
      "--------------------------\n",
      "Your song: Lose Yourself - From \"8 Mile\" Soundtrack / Eminem\n",
      "Based on the song features we think \"It's All Right - Single Version\" from \"The Impressions\" will like you. Check it out!\n",
      "--------------------------\n"
     ]
    },
    {
     "data": {
      "text/html": [
       "\n",
       "        <iframe\n",
       "            width=\"320\"\n",
       "            height=\"80\"\n",
       "            src=\"https://open.spotify.com/embed/track/62PQXBFeAgS3iUseNRVPpF?frameborder=0&allowtransparency=true&allow=encrypted-media\"\n",
       "            frameborder=\"0\"\n",
       "            allowfullscreen\n",
       "            \n",
       "        ></iframe>\n",
       "        "
      ],
      "text/plain": [
       "<IPython.lib.display.IFrame at 0x1d5956423d0>"
      ]
     },
     "metadata": {},
     "output_type": "display_data"
    },
    {
     "name": "stdout",
     "output_type": "stream",
     "text": [
      "--------------------------\n",
      "Do you want another recommendation? y\n",
      "--------------------------\n",
      "Awesome! :)\n",
      "--------------------------\n",
      "Please enter the name of one song you love: fly me to the moon\n",
      "--------------------------\n",
      "Spotify found more than one song under that name!\n",
      "\n",
      "1. Fly Me To The Moon (In Other Words) / Frank Sinatra\n",
      "2. FLY ME TO THE MOON - 2020 Version / Yoko Takahashi\n",
      "3. Fly Me to the Moon / The Macarons Project\n",
      "--------------------------\n",
      "Which one do you mean? 1\n",
      "--------------------------\n",
      "Your song: Fly Me To The Moon (In Other Words) / Frank Sinatra\n",
      "Based on the song features we think \"Play Ray\" from \"Lou Donaldson\" will like you. Check it out!\n",
      "--------------------------\n"
     ]
    },
    {
     "data": {
      "text/html": [
       "\n",
       "        <iframe\n",
       "            width=\"320\"\n",
       "            height=\"80\"\n",
       "            src=\"https://open.spotify.com/embed/track/0CaMKN4Fu6WKHBW38JazrY?frameborder=0&allowtransparency=true&allow=encrypted-media\"\n",
       "            frameborder=\"0\"\n",
       "            allowfullscreen\n",
       "            \n",
       "        ></iframe>\n",
       "        "
      ],
      "text/plain": [
       "<IPython.lib.display.IFrame at 0x1d59afdcdf0>"
      ]
     },
     "metadata": {},
     "output_type": "display_data"
    },
    {
     "name": "stdout",
     "output_type": "stream",
     "text": [
      "--------------------------\n",
      "Do you want another recommendation? y\n",
      "--------------------------\n",
      "Awesome! :)\n",
      "--------------------------\n",
      "Please enter the name of one song you love: let her go\n",
      "--------------------------\n",
      "Spotify found more than one song under that name!\n",
      "\n",
      "1. Let Her Go / Passenger\n",
      "2. I Bet You Think About Me (feat. Chris Stapleton) (Taylor’s Version) (From The Vault) / Taylor Swift\n",
      "3. Let Her Go / The Kid LAROI\n",
      "--------------------------\n",
      "Which one do you mean? 1\n",
      "--------------------------\n",
      "Your song: Let Her Go / Passenger\n",
      "Based on the song features we think \"Ernani (1996 Digital Remaster), Act III: Un patto! un giuramento!...Si ridesti il Leon di Castiglia\" from \"Orchestra of Welsh National Opera\" will like you. Check it out!\n",
      "--------------------------\n"
     ]
    },
    {
     "data": {
      "text/html": [
       "\n",
       "        <iframe\n",
       "            width=\"320\"\n",
       "            height=\"80\"\n",
       "            src=\"https://open.spotify.com/embed/track/2AF4rbZkURqhtEzLxbCYBb?frameborder=0&allowtransparency=true&allow=encrypted-media\"\n",
       "            frameborder=\"0\"\n",
       "            allowfullscreen\n",
       "            \n",
       "        ></iframe>\n",
       "        "
      ],
      "text/plain": [
       "<IPython.lib.display.IFrame at 0x1d59afdce80>"
      ]
     },
     "metadata": {},
     "output_type": "display_data"
    },
    {
     "name": "stdout",
     "output_type": "stream",
     "text": [
      "--------------------------\n"
     ]
    }
   ],
   "source": [
    "sr.song_recommender_V2(billboard100, songs_db, kmeans_model, scaler, limit = 3)"
   ]
  },
  {
   "cell_type": "markdown",
   "metadata": {},
   "source": [
    "# Player (for the Demo)"
   ]
  },
  {
   "cell_type": "code",
   "execution_count": null,
   "metadata": {},
   "outputs": [],
   "source": [
    "sp = spotipy.Spotify(auth_manager=SpotifyClientCredentials(client_id= config.client_id,\n",
    "                                                           client_secret= config.client_secret))\n",
    "\n",
    "song_name = \"Fly me to the moon\"\n",
    "song_id = sp.search(q = song_name, type = \"track\", limit=1, market=\"US\")[\"tracks\"][\"items\"][0][\"id\"]\n",
    "spotify_player(song_id)"
   ]
  },
  {
   "cell_type": "code",
   "execution_count": null,
   "metadata": {},
   "outputs": [],
   "source": []
  }
 ],
 "metadata": {
  "kernelspec": {
   "display_name": "Python 3 (ipykernel)",
   "language": "python",
   "name": "python3"
  },
  "language_info": {
   "codemirror_mode": {
    "name": "ipython",
    "version": 3
   },
   "file_extension": ".py",
   "mimetype": "text/x-python",
   "name": "python",
   "nbconvert_exporter": "python",
   "pygments_lexer": "ipython3",
   "version": "3.9.0"
  }
 },
 "nbformat": 4,
 "nbformat_minor": 1
}
